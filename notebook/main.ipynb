{
 "cells": [
  {
   "cell_type": "code",
   "execution_count": 1,
   "metadata": {},
   "outputs": [],
   "source": [
    "import clip\n",
    "import torch \n",
    "import numpy as np\n",
    "import os\n",
    "import glob\n",
    "from pathlib import Path\n",
    "from PIL import Image"
   ]
  },
  {
   "cell_type": "code",
   "execution_count": 4,
   "metadata": {},
   "outputs": [
    {
     "data": {
      "text/plain": [
       "'cpu'"
      ]
     },
     "execution_count": 4,
     "metadata": {},
     "output_type": "execute_result"
    }
   ],
   "source": [
    "device = \"cuda\" if torch.cuda.is_available() else \"cpu\"\n",
    "device"
   ]
  },
  {
   "cell_type": "code",
   "execution_count": 5,
   "metadata": {},
   "outputs": [
    {
     "name": "stderr",
     "output_type": "stream",
     "text": [
      "100%|███████████████████████████████████████| 338M/338M [01:45<00:00, 3.36MiB/s]\n"
     ]
    }
   ],
   "source": [
    "model, preprocess = clip.load(\"ViT-B/32\", device=device)"
   ]
  },
  {
   "cell_type": "code",
   "execution_count": 6,
   "metadata": {},
   "outputs": [],
   "source": [
    "from glob import glob"
   ]
  },
  {
   "cell_type": "code",
   "execution_count": 12,
   "metadata": {},
   "outputs": [],
   "source": [
    "image_path = Path(\"../images\")\n",
    "images = glob(str(image_path / \"*\"))"
   ]
  },
  {
   "cell_type": "code",
   "execution_count": 13,
   "metadata": {},
   "outputs": [
    {
     "data": {
      "text/plain": [
       "['..\\\\images\\\\Blue and Yellow Personal Profile LinkedIn Background Banner.png',\n",
       " '..\\\\images\\\\Designer - Copy.png',\n",
       " '..\\\\images\\\\image1-139 - Copy.png',\n",
       " '..\\\\images\\\\IMG_20240303_232651 - Copy.jpg',\n",
       " '..\\\\images\\\\light2 - Copy (2).jpg',\n",
       " '..\\\\images\\\\light3 - Copy.jpg',\n",
       " '..\\\\images\\\\mockup copy 1.jpg',\n",
       " '..\\\\images\\\\moving light 2.jpeg',\n",
       " '..\\\\images\\\\moving light 3.jpeg',\n",
       " '..\\\\images\\\\Purple Internship Job Hiring Facebook Post.png',\n",
       " '..\\\\images\\\\WhatsApp Image 2024-01-11 at 19.35.39_496aed43 - Copy.jpg',\n",
       " '..\\\\images\\\\WhatsApp Image 2024-03-04 at 08.51.06_a0b11b3f - Copy.jpg',\n",
       " '..\\\\images\\\\WhatsApp Image 2024-03-17 at 11.14.13_2b120714.jpg',\n",
       " '..\\\\images\\\\WhatsApp Image 2024-04-04 at 23.36.40_e17d9888.jpg']"
      ]
     },
     "execution_count": 13,
     "metadata": {},
     "output_type": "execute_result"
    }
   ],
   "source": [
    "images"
   ]
  },
  {
   "cell_type": "code",
   "execution_count": 24,
   "metadata": {},
   "outputs": [],
   "source": [
    "image_embedding = []\n",
    "for i in images:\n",
    "    image = preprocess(Image.open(i)).unsqueeze(0).to(device)\n",
    "    with torch.no_grad():\n",
    "        image_features = model.encode_image(image).cpu().numpy().tolist()\n",
    "    image_embedding.append(image_features)"
   ]
  },
  {
   "cell_type": "code",
   "execution_count": 22,
   "metadata": {},
   "outputs": [],
   "source": [
    "import chromadb"
   ]
  },
  {
   "cell_type": "code",
   "execution_count": 44,
   "metadata": {},
   "outputs": [],
   "source": [
    "chroma_client = chromadb.Client()\n",
    "image_collection = chroma_client.create_collection(\"image\" , metadata={\"hnsw:space\": \"cosine\"})"
   ]
  },
  {
   "cell_type": "code",
   "execution_count": 43,
   "metadata": {},
   "outputs": [],
   "source": [
    "chroma_client.delete_collection(\"image\")"
   ]
  },
  {
   "cell_type": "code",
   "execution_count": 30,
   "metadata": {},
   "outputs": [],
   "source": [
    "ids_index = 1"
   ]
  },
  {
   "cell_type": "code",
   "execution_count": 45,
   "metadata": {},
   "outputs": [],
   "source": [
    "for i in images:\n",
    "    image = preprocess(Image.open(i)).unsqueeze(0).to(device)\n",
    "    with torch.no_grad():\n",
    "        image_features = model.encode_image(image).cpu().numpy().tolist()\n",
    "    image_embedding.append(image_features)\n",
    "    ids_index += 1\n",
    "    image_collection.add(ids= str(ids_index + 1) ,embeddings=image_features, metadatas={\"path\": i , \"name\": os.path.basename(i)})"
   ]
  },
  {
   "cell_type": "code",
   "execution_count": 67,
   "metadata": {},
   "outputs": [
    {
     "name": "stdout",
     "output_type": "stream",
     "text": [
      "WhatsApp Image 2024-03-17 at 11.14.13_2b120714.jpg\n",
      "..\\images\\WhatsApp Image 2024-03-17 at 11.14.13_2b120714.jpg\n",
      "WhatsApp Image 2024-01-11 at 19.35.39_496aed43 - Copy.jpg\n",
      "..\\images\\WhatsApp Image 2024-01-11 at 19.35.39_496aed43 - Copy.jpg\n"
     ]
    }
   ],
   "source": [
    "text_input = input(\"Enter text: \")\n",
    "text_embedding = clip.tokenize(text_input).to(device)\n",
    "text_features = model.encode_text(text_embedding).detach().cpu().numpy()\n",
    "result = image_collection.query(text_features, n_results=2)\n",
    "for i in result['metadatas'][0]:\n",
    "    print(i['name'])\n",
    "    print(i['path'])\n",
    "    img = Image.open(i['path'])\n",
    "    img.show()"
   ]
  },
  {
   "cell_type": "code",
   "execution_count": null,
   "metadata": {},
   "outputs": [],
   "source": []
  }
 ],
 "metadata": {
  "kernelspec": {
   "display_name": "env",
   "language": "python",
   "name": "python3"
  },
  "language_info": {
   "codemirror_mode": {
    "name": "ipython",
    "version": 3
   },
   "file_extension": ".py",
   "mimetype": "text/x-python",
   "name": "python",
   "nbconvert_exporter": "python",
   "pygments_lexer": "ipython3",
   "version": "3.11.6"
  }
 },
 "nbformat": 4,
 "nbformat_minor": 2
}
